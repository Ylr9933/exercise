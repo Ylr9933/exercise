{
 "cells": [
  {
   "cell_type": "markdown",
   "metadata": {},
   "source": [
    "# 诗歌生成"
   ]
  },
  {
   "cell_type": "markdown",
   "metadata": {},
   "source": [
    "# 数据处理"
   ]
  },
  {
   "cell_type": "code",
   "execution_count": 12,
   "metadata": {},
   "outputs": [],
   "source": [
    "import numpy as np\n",
    "import tensorflow as tf\n",
    "import collections\n",
    "from tensorflow import keras\n",
    "from tensorflow.keras import layers\n",
    "from tensorflow.keras import layers, optimizers, datasets\n",
    "\n",
    "start_token = 'bos'\n",
    "end_token = 'eos'\n",
    "\n",
    "def process_dataset(fileName):\n",
    "    examples = []\n",
    "    with open(fileName, 'r') as fd:\n",
    "        for line in fd:\n",
    "            outs = line.strip().split(':')\n",
    "            content = ''.join(outs[1:])\n",
    "            ins = [start_token] + list(content) + [end_token] \n",
    "            if len(ins) > 200:\n",
    "                continue\n",
    "            examples.append(ins)\n",
    "            \n",
    "    counter = collections.Counter()\n",
    "    for e in examples:\n",
    "        for w in e:\n",
    "            counter[w]+=1\n",
    "    \n",
    "    sorted_counter = sorted(counter.items(), key=lambda x: -x[1])  # 排序\n",
    "    words, _ = zip(*sorted_counter)\n",
    "    words = ('PAD', 'UNK') + words[:len(words)]\n",
    "    word2id = dict(zip(words, range(len(words))))\n",
    "    id2word = {word2id[k]:k for k in word2id}\n",
    "    \n",
    "    indexed_examples = [[word2id[w] for w in poem]\n",
    "                        for poem in examples]\n",
    "    seqlen = [len(e) for e in indexed_examples]\n",
    "    \n",
    "    instances = list(zip(indexed_examples, seqlen))\n",
    "    \n",
    "    return instances, word2id, id2word\n",
    "\n",
    "def poem_dataset():\n",
    "    instances, word2id, id2word = process_dataset('./poems.txt')\n",
    "    ds = tf.data.Dataset.from_generator(lambda: [ins for ins in instances], \n",
    "                                            (tf.int64, tf.int64), \n",
    "                                            (tf.TensorShape([None]),tf.TensorShape([])))\n",
    "    ds = ds.shuffle(buffer_size=10240)\n",
    "    ds = ds.padded_batch(100, padded_shapes=(tf.TensorShape([None]),tf.TensorShape([])))\n",
    "    ds = ds.map(lambda x, seqlen: (x[:, :-1], x[:, 1:], seqlen-1))\n",
    "    return ds, word2id, id2word"
   ]
  },
  {
   "cell_type": "markdown",
   "metadata": {},
   "source": [
    "# 模型代码， 完成建模代码"
   ]
  },
  {
   "cell_type": "code",
   "execution_count": 13,
   "metadata": {},
   "outputs": [],
   "source": [
    "class myRNNModel(keras.Model):\n",
    "    def __init__(self, w2id):\n",
    "        super(myRNNModel, self).__init__()\n",
    "        self.v_sz = len(w2id)\n",
    "        self.embed_layer = tf.keras.layers.Embedding(self.v_sz, 64, \n",
    "                                                    batch_input_shape=[None, None])\n",
    "        \n",
    "        self.rnncell = tf.keras.layers.SimpleRNNCell(128)\n",
    "        self.rnn_layer = tf.keras.layers.RNN(self.rnncell, return_sequences=True)\n",
    "        self.dense = tf.keras.layers.Dense(self.v_sz)\n",
    "        \n",
    "    @tf.function\n",
    "    def call(self, inp_ids):\n",
    "        '''\n",
    "        前向传播逻辑\n",
    "        Args:\n",
    "            inp_ids: shape(batch_size, seq_len), dtype=tf.int32\n",
    "        Returns:\n",
    "            logits: shape(batch_size, seq_len, vocab_size), dtype=tf.float32\n",
    "        '''\n",
    "        # 嵌入层：将输入 ID 映射到高维空间\n",
    "        embed = self.embed_layer(inp_ids)  # shape: (batch_size, seq_len, emb_dim)\n",
    "\n",
    "        # RNN 层：处理序列数据\n",
    "        rnn_output = self.rnn_layer(embed)  # shape: (batch_size, seq_len, hidden_dim)\n",
    "\n",
    "        # 全连接层：输出每个时间步的分类概率\n",
    "        logits = self.dense(rnn_output)  # shape: (batch_size, seq_len, vocab_size)\n",
    "\n",
    "        return logits\n",
    "    \n",
    "    @tf.function\n",
    "    def get_next_token(self, x, state):\n",
    "        '''\n",
    "        shape(x) = [b_sz,] \n",
    "        '''\n",
    "    \n",
    "        inp_emb = self.embed_layer(x) #shape(b_sz, emb_sz)\n",
    "        h, state = self.rnncell.call(inp_emb, state) # shape(b_sz, h_sz)\n",
    "        logits = self.dense(h) # shape(b_sz, v_sz)\n",
    "        out = tf.argmax(logits, axis=-1)\n",
    "        return out, state"
   ]
  },
  {
   "cell_type": "markdown",
   "metadata": {},
   "source": [
    "## 一个计算sequence loss的辅助函数，只需了解用途。"
   ]
  },
  {
   "cell_type": "code",
   "execution_count": 14,
   "metadata": {},
   "outputs": [],
   "source": [
    "def mkMask(input_tensor, maxLen):\n",
    "    shape_of_input = tf.shape(input_tensor)\n",
    "    shape_of_output = tf.concat(axis=0, values=[shape_of_input, [maxLen]])\n",
    "\n",
    "    oneDtensor = tf.reshape(input_tensor, shape=(-1,))\n",
    "    flat_mask = tf.sequence_mask(oneDtensor, maxlen=maxLen)\n",
    "    return tf.reshape(flat_mask, shape_of_output)\n",
    "\n",
    "\n",
    "def reduce_avg(reduce_target, lengths, dim):\n",
    "    \"\"\"\n",
    "    Args:\n",
    "        reduce_target : shape(d_0, d_1,..,d_dim, .., d_k)\n",
    "        lengths : shape(d0, .., d_(dim-1))\n",
    "        dim : which dimension to average, should be a python number\n",
    "    \"\"\"\n",
    "    shape_of_lengths = lengths.get_shape()\n",
    "    shape_of_target = reduce_target.get_shape()\n",
    "    if len(shape_of_lengths) != dim:\n",
    "        raise ValueError(('Second input tensor should be rank %d, ' +\n",
    "                         'while it got rank %d') % (dim, len(shape_of_lengths)))\n",
    "    if len(shape_of_target) < dim+1 :\n",
    "        raise ValueError(('First input tensor should be at least rank %d, ' +\n",
    "                         'while it got rank %d') % (dim+1, len(shape_of_target)))\n",
    "\n",
    "    rank_diff = len(shape_of_target) - len(shape_of_lengths) - 1\n",
    "    mxlen = tf.shape(reduce_target)[dim]\n",
    "    mask = mkMask(lengths, mxlen)\n",
    "    if rank_diff!=0:\n",
    "        len_shape = tf.concat(axis=0, values=[tf.shape(lengths), [1]*rank_diff])\n",
    "        mask_shape = tf.concat(axis=0, values=[tf.shape(mask), [1]*rank_diff])\n",
    "    else:\n",
    "        len_shape = tf.shape(lengths)\n",
    "        mask_shape = tf.shape(mask)\n",
    "    lengths_reshape = tf.reshape(lengths, shape=len_shape)\n",
    "    mask = tf.reshape(mask, shape=mask_shape)\n",
    "\n",
    "    mask_target = reduce_target * tf.cast(mask, dtype=reduce_target.dtype)\n",
    "\n",
    "    red_sum = tf.reduce_sum(mask_target, axis=[dim], keepdims=False)\n",
    "    red_avg = red_sum / (tf.cast(lengths_reshape, dtype=tf.float32) + 1e-30)\n",
    "    return red_avg"
   ]
  },
  {
   "cell_type": "markdown",
   "metadata": {},
   "source": [
    "# 定义loss函数，定义训练函数"
   ]
  },
  {
   "cell_type": "code",
   "execution_count": 15,
   "metadata": {},
   "outputs": [],
   "source": [
    "@tf.function\n",
    "def compute_loss(logits, labels, seqlen):\n",
    "    losses = tf.nn.sparse_softmax_cross_entropy_with_logits(\n",
    "            logits=logits, labels=labels)\n",
    "    losses = reduce_avg(losses, seqlen, dim=1)\n",
    "    return tf.reduce_mean(losses)\n",
    "\n",
    "@tf.function\n",
    "def train_one_step(model, optimizer, x, y, seqlen):\n",
    "    with tf.GradientTape() as tape:\n",
    "        # 前向传播\n",
    "        logits = model(x)  # shape: (batch_size, seq_len, vocab_size)\n",
    "        # 计算损失\n",
    "        loss = compute_loss(logits, y, seqlen)\n",
    "\n",
    "    # 计算梯度并更新参数\n",
    "    gradients = tape.gradient(loss, model.trainable_variables)\n",
    "    optimizer.apply_gradients(zip(gradients, model.trainable_variables))\n",
    "\n",
    "    return loss\n",
    "\n",
    "def train(epoch, model, optimizer, ds):\n",
    "    loss = 0.0\n",
    "    accuracy = 0.0\n",
    "    for step, (x, y, seqlen) in enumerate(ds):\n",
    "        loss = train_one_step(model, optimizer, x, y, seqlen)\n",
    "\n",
    "        if step % 500 == 0:\n",
    "            print('epoch', epoch, ': loss', loss.numpy())\n",
    "\n",
    "    return loss"
   ]
  },
  {
   "cell_type": "markdown",
   "metadata": {},
   "source": [
    "# 训练优化过程"
   ]
  },
  {
   "cell_type": "code",
   "execution_count": 16,
   "metadata": {},
   "outputs": [
    {
     "name": "stdout",
     "output_type": "stream",
     "text": [
      "epoch 0 : loss 8.819752\n",
      "epoch 1 : loss 6.5525346\n",
      "epoch 2 : loss 6.119895\n",
      "epoch 3 : loss 5.8418603\n",
      "epoch 4 : loss 5.696637\n",
      "epoch 5 : loss 5.601245\n",
      "epoch 6 : loss 5.4207983\n",
      "epoch 7 : loss 5.3971877\n",
      "epoch 8 : loss 5.4013667\n",
      "epoch 9 : loss 5.267058\n"
     ]
    }
   ],
   "source": [
    "optimizer = optimizers.Adam(0.0005)\n",
    "train_ds, word2id, id2word = poem_dataset()\n",
    "model = myRNNModel(word2id)\n",
    "\n",
    "for epoch in range(10):\n",
    "    loss = train(epoch, model, optimizer, train_ds)"
   ]
  },
  {
   "cell_type": "markdown",
   "metadata": {},
   "source": [
    "# 生成过程"
   ]
  },
  {
   "cell_type": "code",
   "execution_count": 17,
   "metadata": {},
   "outputs": [
    {
     "name": "stdout",
     "output_type": "stream",
     "text": [
      "【日】开头生成的诗：\n",
      "日暮花声人，不见一人不，知心不可知，子不可知不。\n",
      "\n",
      "【红】开头生成的诗：\n",
      "红氲畔畔帆递怅，蓉猿递怅忆湘江，水上山看一枝来，不得人不得不知。\n",
      "\n",
      "【山】开头生成的诗：\n",
      "山上水风雨落花，声子无人事无人，不可知心无限处，不见此中心客无。\n",
      "\n",
      "【夜】开头生成的诗：\n",
      "夜暮花声落，风吹落水寒，子无人事何，人不可知心。\n",
      "\n",
      "【湖】开头生成的诗：\n",
      "湖上春风吹落日，如明人不得无人，事不得人间不得，人道不知无限处。\n",
      "\n",
      "【海】开头生成的诗：\n",
      "海阳年子无人一，人无人来不得不，得人间生不得不，得无人生不得不。\n",
      "\n",
      "【月】开头生成的诗：\n",
      "月秋月不知不知，何处是何人来不，得人相见不得人，间不得人得不知。\n",
      "\n"
     ]
    }
   ],
   "source": [
    "import random\n",
    "\n",
    "def generate_poem(begin_word, model, w2id, id2w, poem_type=random.choice([5,7])):\n",
    "    state = model.rnncell.get_initial_state(batch_size=1, dtype=tf.float32)\n",
    "    current_word = tf.constant([w2id[begin_word]], dtype=tf.int32)\n",
    "    poem_lines = []\n",
    "    current_line = [begin_word]\n",
    "    \n",
    "    # 忽略的符号列表（模型可能生成的无效字符）\n",
    "    banned_tokens = ['，', '。', 'eos', 'UNK']\n",
    "    \n",
    "    for _ in range(4 * poem_type * 4):  # 放宽生成次数限制\n",
    "        current_word, state = model.get_next_token(current_word, state)\n",
    "        word = id2w.get(current_word.numpy()[0], 'UNK')\n",
    "        \n",
    "        # 关键逻辑：过滤无效符号\n",
    "        if word in banned_tokens:\n",
    "            continue  # 直接跳过，不加入诗句\n",
    "        \n",
    "        current_line.append(word)\n",
    "        \n",
    "        # 每句长度达标后添加标点\n",
    "        if len(current_line) == poem_type:\n",
    "            punctuation = '，' if len(poem_lines) < 3 else '。'\n",
    "            poem_lines.append(''.join(current_line) + punctuation)\n",
    "            current_line = []\n",
    "        \n",
    "        # 生成四句后强制终止\n",
    "        if len(poem_lines) >= 4:\n",
    "            break\n",
    "    \n",
    "    # 补全最后一句（如果未完成）\n",
    "    if len(poem_lines) < 4 and current_line:\n",
    "        current_line = current_line[:poem_type]  # 截断至规定长度\n",
    "        punctuation = '。' if len(poem_lines) >= 3 else '，'\n",
    "        poem_lines.append(''.join(current_line) + punctuation)\n",
    "    \n",
    "    # 确保最终为四句\n",
    "    return ''.join(poem_lines[:4])\n",
    "\n",
    "begin_words = [\"日\", \"红\", \"山\", \"夜\", \"湖\", \"海\", \"月\"]\n",
    "\n",
    "for word in begin_words:\n",
    "    poem = generate_poem(word, model, word2id, id2word, poem_type=random.choice([5,7]))  # 生成七言诗\n",
    "    print(f\"【{word}】开头生成的诗：\\n{poem}\\n\")\n"
   ]
  },
  {
   "cell_type": "code",
   "execution_count": null,
   "metadata": {},
   "outputs": [],
   "source": []
  },
  {
   "cell_type": "code",
   "execution_count": null,
   "metadata": {},
   "outputs": [],
   "source": []
  }
 ],
 "metadata": {
  "anaconda-cloud": {},
  "kernelspec": {
   "display_name": "python_for_HVSA-MAIN",
   "language": "python",
   "name": "python3"
  },
  "language_info": {
   "codemirror_mode": {
    "name": "ipython",
    "version": 3
   },
   "file_extension": ".py",
   "mimetype": "text/x-python",
   "name": "python",
   "nbconvert_exporter": "python",
   "pygments_lexer": "ipython3",
   "version": "3.8.8"
  }
 },
 "nbformat": 4,
 "nbformat_minor": 1
}
