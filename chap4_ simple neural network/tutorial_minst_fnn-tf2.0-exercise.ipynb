{
 "cells": [
  {
   "cell_type": "markdown",
   "metadata": {},
   "source": [
    "## 准备数据"
   ]
  },
  {
   "cell_type": "code",
   "execution_count": 6,
   "metadata": {},
   "outputs": [],
   "source": [
    "import os\n",
    "import numpy as np\n",
    "import tensorflow as tf\n",
    "from tensorflow import keras\n",
    "from tensorflow.keras import layers, optimizers, datasets\n",
    "\n",
    "os.environ['TF_CPP_MIN_LOG_LEVEL'] = '2'  # or any {'0', '1', '2'}\n",
    "\n",
    "def mnist_dataset():\n",
    "    (x, y), (x_test, y_test) = datasets.mnist.load_data()\n",
    "    #normalize\n",
    "    x = x/255.0\n",
    "    x_test = x_test/255.0\n",
    "    \n",
    "    return (x, y), (x_test, y_test)"
   ]
  },
  {
   "cell_type": "code",
   "execution_count": 7,
   "metadata": {},
   "outputs": [
    {
     "name": "stdout",
     "output_type": "stream",
     "text": [
      "[(1, 'a'), (2, 'b'), (3, 'c'), (4, 'd')]\n"
     ]
    }
   ],
   "source": [
    "print(list(zip([1, 2, 3, 4], ['a', 'b', 'c', 'd'])))"
   ]
  },
  {
   "cell_type": "markdown",
   "metadata": {},
   "source": [
    "## 建立模型"
   ]
  },
  {
   "cell_type": "code",
   "execution_count": 8,
   "metadata": {},
   "outputs": [],
   "source": [
    "class myModel:\n",
    "    def __init__(self):\n",
    "        ####################\n",
    "        '''声明模型对应的参数'''\n",
    "         # 初始化权重和偏置\n",
    "        # 假设输入大小为28*28=784，输出大小为10（数字0-9）\n",
    "        # 隐藏层大小可以自定义，这里我们设置为128\n",
    "        self.W1 = tf.Variable(tf.random.normal([784, 128], stddev=0.03), name='W1')\n",
    "        self.b1 = tf.Variable(tf.random.normal([128]), name='b1')\n",
    "        \n",
    "        self.W2 = tf.Variable(tf.random.normal([128, 64], stddev=0.03), name='W2')\n",
    "        self.b2 = tf.Variable(tf.random.normal([64]), name='b2')\n",
    "        \n",
    "        self.W3 = tf.Variable(tf.random.normal([64, 10], stddev=0.03), name='W3')\n",
    "        self.b3 = tf.Variable(tf.random.normal([10]), name='b3')\n",
    "        ####################\n",
    "    def __call__(self, x):\n",
    "        ####################\n",
    "        '''实现模型函数体，返回未归一化的logits'''\n",
    "        # 前向传播过程\n",
    "        # 输入x形状为(batch_size, 28, 28)，需要先展平成(batch_size, 784)\n",
    "        x = tf.reshape(x, (-1, 784))\n",
    "        \n",
    "        # 第一层\n",
    "        z1 = tf.add(tf.matmul(x, self.W1), self.b1)\n",
    "        a1 = tf.nn.relu(z1)\n",
    "        \n",
    "        # 第二层\n",
    "        z2 = tf.add(tf.matmul(a1, self.W2), self.b2)\n",
    "        a2 = tf.nn.relu(z2)\n",
    "        \n",
    "        # 输出层\n",
    "        logits = tf.add(tf.matmul(a2, self.W3), self.b3)\n",
    "        ####################\n",
    "        return logits\n",
    "        \n",
    "model = myModel()\n",
    "\n",
    "optimizer = optimizers.Adam()\n"
   ]
  },
  {
   "cell_type": "markdown",
   "metadata": {},
   "source": [
    "## 计算 loss"
   ]
  },
  {
   "cell_type": "code",
   "execution_count": 11,
   "metadata": {},
   "outputs": [],
   "source": [
    "@tf.function\n",
    "def compute_loss(logits, labels):\n",
    "    return tf.reduce_mean(\n",
    "        tf.nn.sparse_softmax_cross_entropy_with_logits(\n",
    "            logits=logits, labels=labels))\n",
    "\n",
    "@tf.function\n",
    "def compute_accuracy(logits, labels):\n",
    "    predictions = tf.argmax(logits, axis=1)\n",
    "    return tf.reduce_mean(tf.cast(tf.equal(predictions, labels), tf.float32))\n",
    "\n",
    "@tf.function\n",
    "def train_one_step(model, optimizer, x, y):\n",
    "    with tf.GradientTape() as tape:\n",
    "        logits = model(x)\n",
    "        loss = compute_loss(logits, y)\n",
    "\n",
    "    # 计算梯度\n",
    "    trainable_vars = [model.W1, model.W2, model.W3, model.b1, model.b2, model.b3]\n",
    "    grads = tape.gradient(loss, trainable_vars)\n",
    "    \n",
    "    # 使用优化器更新权重\n",
    "    optimizer.apply_gradients(zip(grads, trainable_vars))\n",
    "\n",
    "    accuracy = compute_accuracy(logits, y)\n",
    "\n",
    "    # 返回损失和准确率\n",
    "    return loss, accuracy\n",
    "@tf.function\n",
    "def test(model, x, y):\n",
    "    logits = model(x)\n",
    "    loss = compute_loss(logits, y)\n",
    "    accuracy = compute_accuracy(logits, y)\n",
    "    return loss, accuracy"
   ]
  },
  {
   "cell_type": "markdown",
   "metadata": {},
   "source": [
    "## 实际训练"
   ]
  },
  {
   "cell_type": "code",
   "execution_count": 13,
   "metadata": {},
   "outputs": [
    {
     "name": "stdout",
     "output_type": "stream",
     "text": [
      "epoch 0 : loss 0.8226924 ; accuracy 0.7658167\n",
      "epoch 1 : loss 0.79667693 ; accuracy 0.77315\n",
      "epoch 2 : loss 0.77210164 ; accuracy 0.78085\n",
      "epoch 3 : loss 0.74881727 ; accuracy 0.78746665\n",
      "epoch 4 : loss 0.72680545 ; accuracy 0.7948667\n",
      "epoch 5 : loss 0.7060169 ; accuracy 0.8013167\n",
      "epoch 6 : loss 0.686283 ; accuracy 0.80646664\n",
      "epoch 7 : loss 0.66745174 ; accuracy 0.81093335\n",
      "epoch 8 : loss 0.64953023 ; accuracy 0.8146833\n",
      "epoch 9 : loss 0.632575 ; accuracy 0.8185167\n",
      "epoch 10 : loss 0.6165531 ; accuracy 0.8224\n",
      "epoch 11 : loss 0.6013944 ; accuracy 0.82591665\n",
      "epoch 12 : loss 0.5870521 ; accuracy 0.82998335\n",
      "epoch 13 : loss 0.57344806 ; accuracy 0.83353335\n",
      "epoch 14 : loss 0.56048113 ; accuracy 0.83715\n",
      "epoch 15 : loss 0.54814553 ; accuracy 0.8401833\n",
      "epoch 16 : loss 0.5364797 ; accuracy 0.84318334\n",
      "epoch 17 : loss 0.5254328 ; accuracy 0.84601665\n",
      "epoch 18 : loss 0.51491296 ; accuracy 0.84886664\n",
      "epoch 19 : loss 0.5048901 ; accuracy 0.8523\n",
      "epoch 20 : loss 0.4953445 ; accuracy 0.8548\n",
      "epoch 21 : loss 0.48622945 ; accuracy 0.85735\n",
      "epoch 22 : loss 0.4775287 ; accuracy 0.8598833\n",
      "epoch 23 : loss 0.46923113 ; accuracy 0.8627167\n",
      "epoch 24 : loss 0.46131456 ; accuracy 0.8656333\n",
      "epoch 25 : loss 0.45376077 ; accuracy 0.86775\n",
      "epoch 26 : loss 0.4465364 ; accuracy 0.86986667\n",
      "epoch 27 : loss 0.43961883 ; accuracy 0.87205\n",
      "epoch 28 : loss 0.4330157 ; accuracy 0.8738\n",
      "epoch 29 : loss 0.42672288 ; accuracy 0.87575\n",
      "epoch 30 : loss 0.4207135 ; accuracy 0.87785\n",
      "epoch 31 : loss 0.41495904 ; accuracy 0.879\n",
      "epoch 32 : loss 0.4094491 ; accuracy 0.88103336\n",
      "epoch 33 : loss 0.4041805 ; accuracy 0.8825833\n",
      "epoch 34 : loss 0.39915007 ; accuracy 0.8840333\n",
      "epoch 35 : loss 0.39433894 ; accuracy 0.8855\n",
      "epoch 36 : loss 0.38973078 ; accuracy 0.8869333\n",
      "epoch 37 : loss 0.3853207 ; accuracy 0.88851666\n",
      "epoch 38 : loss 0.38110098 ; accuracy 0.88953334\n",
      "epoch 39 : loss 0.37706193 ; accuracy 0.89101666\n",
      "epoch 40 : loss 0.3731979 ; accuracy 0.89213336\n",
      "epoch 41 : loss 0.3694963 ; accuracy 0.8933333\n",
      "epoch 42 : loss 0.36593002 ; accuracy 0.89435\n",
      "epoch 43 : loss 0.36247006 ; accuracy 0.8952\n",
      "epoch 44 : loss 0.35913503 ; accuracy 0.89615\n",
      "epoch 45 : loss 0.35596386 ; accuracy 0.8972\n",
      "epoch 46 : loss 0.3529211 ; accuracy 0.89805\n",
      "epoch 47 : loss 0.34998456 ; accuracy 0.89883333\n",
      "epoch 48 : loss 0.34714332 ; accuracy 0.89966667\n",
      "epoch 49 : loss 0.34439504 ; accuracy 0.9003\n",
      "test loss 0.341978 ; accuracy 0.9008\n"
     ]
    }
   ],
   "source": [
    "train_data, test_data = mnist_dataset()\n",
    "for epoch in range(50):\n",
    "    loss, accuracy = train_one_step(model, optimizer, \n",
    "                                    tf.constant(train_data[0], dtype=tf.float32), \n",
    "                                    tf.constant(train_data[1], dtype=tf.int64))\n",
    "    print('epoch', epoch, ': loss', loss.numpy(), '; accuracy', accuracy.numpy())\n",
    "loss, accuracy = test(model, \n",
    "                      tf.constant(test_data[0], dtype=tf.float32), \n",
    "                      tf.constant(test_data[1], dtype=tf.int64))\n",
    "\n",
    "print('test loss', loss.numpy(), '; accuracy', accuracy.numpy())"
   ]
  }
 ],
 "metadata": {
  "kernelspec": {
   "display_name": "python_for_HVSA-MAIN",
   "language": "python",
   "name": "python3"
  },
  "language_info": {
   "codemirror_mode": {
    "name": "ipython",
    "version": 3
   },
   "file_extension": ".py",
   "mimetype": "text/x-python",
   "name": "python",
   "nbconvert_exporter": "python",
   "pygments_lexer": "ipython3",
   "version": "3.8.8"
  }
 },
 "nbformat": 4,
 "nbformat_minor": 2
}
